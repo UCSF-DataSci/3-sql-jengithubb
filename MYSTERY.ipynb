{
 "cells": [
  {
   "cell_type": "markdown",
   "id": "ebb94371",
   "metadata": {},
   "source": [
    "# SQL Murder Mystery\n",
    "\n",
    "## Can you find out whodunnit?\n",
    "\n",
    "![A decorative illustration of a detective looking at an evidence board.](https://mystery.knightlab.com/174092-clue-illustration.png)\n",
    "\n",
    "There's been a Murder in SQL City! The SQL Murder Mystery is designed to be both a self-directed lesson to learn SQL concepts and commands and a fun game for experienced SQL users to solve an intriguing crime.\n",
    "\n",
    "## SQL sleuths start here\n",
    "\n",
    "A crime has taken place and the detective needs your help. The detective gave you the crime scene report, but you somehow lost it. You vaguely remember that the crime was a **​murder​**that occurred sometime on ​**Jan.15, 2018​** and that it took place in ​**SQL City​**. Start by retrieving the corresponding crime scene report from the police department’s database.\n",
    "\n",
    "### Exploring the Database Structure\n",
    "\n",
    "Experienced SQL users can often use database queries to infer the structure of a database. But each database system has different ways of managing this information. The SQL Murder Mystery is built using SQLite. Use this SQL command to find the tables in the Murder Mystery database.\n",
    "\n",
    "Run this query to find the names of the tables in this database.\n",
    "\n",
    "This command is specific to SQLite. For other databases, you'll have to learn their specific syntax.\n"
   ]
  },
  {
   "cell_type": "code",
   "execution_count": 1,
   "id": "1370e6a4",
   "metadata": {},
   "outputs": [],
   "source": [
    "# Install required packages\n",
    "#%pip install ipython-sql sqlalchemy pandas --quiet\n",
    "\n",
    "# Load SQL magic\n",
    "%load_ext sql\n",
    "\n",
    "# Connect to the database\n",
    "%sql sqlite:///sql-murder-mystery.db"
   ]
  },
  {
   "cell_type": "code",
   "execution_count": 2,
   "id": "2f0d9254",
   "metadata": {},
   "outputs": [
    {
     "name": "stdout",
     "output_type": "stream",
     "text": [
      " * sqlite:///sql-murder-mystery.db\n",
      "Done.\n"
     ]
    },
    {
     "data": {
      "text/html": [
       "<table>\n",
       "    <thead>\n",
       "        <tr>\n",
       "            <th>name</th>\n",
       "        </tr>\n",
       "    </thead>\n",
       "    <tbody>\n",
       "        <tr>\n",
       "            <td>crime_scene_report</td>\n",
       "        </tr>\n",
       "        <tr>\n",
       "            <td>drivers_license</td>\n",
       "        </tr>\n",
       "        <tr>\n",
       "            <td>facebook_event_checkin</td>\n",
       "        </tr>\n",
       "        <tr>\n",
       "            <td>interview</td>\n",
       "        </tr>\n",
       "        <tr>\n",
       "            <td>get_fit_now_member</td>\n",
       "        </tr>\n",
       "        <tr>\n",
       "            <td>get_fit_now_check_in</td>\n",
       "        </tr>\n",
       "        <tr>\n",
       "            <td>solution</td>\n",
       "        </tr>\n",
       "        <tr>\n",
       "            <td>income</td>\n",
       "        </tr>\n",
       "        <tr>\n",
       "            <td>person</td>\n",
       "        </tr>\n",
       "    </tbody>\n",
       "</table>"
      ],
      "text/plain": [
       "[('crime_scene_report',),\n",
       " ('drivers_license',),\n",
       " ('facebook_event_checkin',),\n",
       " ('interview',),\n",
       " ('get_fit_now_member',),\n",
       " ('get_fit_now_check_in',),\n",
       " ('solution',),\n",
       " ('income',),\n",
       " ('person',)]"
      ]
     },
     "execution_count": 2,
     "metadata": {},
     "output_type": "execute_result"
    }
   ],
   "source": [
    "%%sql\n",
    "SELECT name\n",
    "FROM sqlite_master\n",
    "where type = 'table'"
   ]
  },
  {
   "cell_type": "markdown",
   "id": "c71b53aa",
   "metadata": {},
   "source": [
    "\n",
    "Besides knowing the table names, you need to know how each table is structured. The way this works is also dependent upon which database technology you use. Here's how you do it with SQLite.\n",
    "\n",
    "Run this query to find the structure of the `crime_scene_report` table\n",
    "\n",
    "Change the value of 'name' to see the structure of the other tables you learned about with the previous query.\n"
   ]
  },
  {
   "cell_type": "code",
   "execution_count": 3,
   "id": "a977d922",
   "metadata": {},
   "outputs": [
    {
     "name": "stdout",
     "output_type": "stream",
     "text": [
      " * sqlite:///sql-murder-mystery.db\n",
      "Done.\n"
     ]
    },
    {
     "data": {
      "text/html": [
       "<table>\n",
       "    <thead>\n",
       "        <tr>\n",
       "            <th>sql</th>\n",
       "        </tr>\n",
       "    </thead>\n",
       "    <tbody>\n",
       "        <tr>\n",
       "            <td>CREATE TABLE crime_scene_report (<br>        date integer,<br>        type text,<br>        description text,<br>        city text<br>    )</td>\n",
       "        </tr>\n",
       "    </tbody>\n",
       "</table>"
      ],
      "text/plain": [
       "[('CREATE TABLE crime_scene_report (\\n        date integer,\\n        type text,\\n        description text,\\n        city text\\n    )',)]"
      ]
     },
     "execution_count": 3,
     "metadata": {},
     "output_type": "execute_result"
    }
   ],
   "source": [
    "%%sql\n",
    "SELECT sql\n",
    "FROM sqlite_master\n",
    "where name = 'crime_scene_report'"
   ]
  },
  {
   "cell_type": "code",
   "execution_count": 6,
   "id": "10a93d59",
   "metadata": {},
   "outputs": [
    {
     "name": "stdout",
     "output_type": "stream",
     "text": [
      " * sqlite:///sql-murder-mystery.db\n",
      "Done.\n"
     ]
    },
    {
     "data": {
      "text/html": [
       "<table>\n",
       "    <thead>\n",
       "        <tr>\n",
       "            <th>date</th>\n",
       "            <th>type</th>\n",
       "            <th>description</th>\n",
       "            <th>city</th>\n",
       "        </tr>\n",
       "    </thead>\n",
       "    <tbody>\n",
       "        <tr>\n",
       "            <td>20180115</td>\n",
       "            <td>murder</td>\n",
       "            <td>Security footage shows that there were 2 witnesses. The first witness lives at the last house on &quot;Northwestern Dr&quot;. The second witness, named Annabel, lives somewhere on &quot;Franklin Ave&quot;.</td>\n",
       "            <td>SQL City</td>\n",
       "        </tr>\n",
       "    </tbody>\n",
       "</table>"
      ],
      "text/plain": [
       "[(20180115, 'murder', 'Security footage shows that there were 2 witnesses. The first witness lives at the last house on \"Northwestern Dr\". The second witness, named Annabel, lives somewhere on \"Franklin Ave\".', 'SQL City')]"
      ]
     },
     "execution_count": 6,
     "metadata": {},
     "output_type": "execute_result"
    }
   ],
   "source": [
    "%%sql\n",
    "SELECT * \n",
    "FROM crime_scene_report \n",
    "WHERE city = 'SQL City' \n",
    "  AND date = 20180115\n",
    "  AND type = 'murder';\n",
    "\n"
   ]
  },
  {
   "cell_type": "code",
   "execution_count": 8,
   "id": "3187ffdc",
   "metadata": {},
   "outputs": [
    {
     "name": "stdout",
     "output_type": "stream",
     "text": [
      " * sqlite:///sql-murder-mystery.db\n",
      "Done.\n"
     ]
    },
    {
     "data": {
      "text/html": [
       "<table>\n",
       "    <thead>\n",
       "        <tr>\n",
       "            <th>id</th>\n",
       "            <th>name</th>\n",
       "            <th>license_id</th>\n",
       "            <th>address_number</th>\n",
       "            <th>address_street_name</th>\n",
       "            <th>ssn</th>\n",
       "        </tr>\n",
       "    </thead>\n",
       "    <tbody>\n",
       "        <tr>\n",
       "            <td>14887</td>\n",
       "            <td>Morty Schapiro</td>\n",
       "            <td>118009</td>\n",
       "            <td>4919</td>\n",
       "            <td>Northwestern Dr</td>\n",
       "            <td>111564949</td>\n",
       "        </tr>\n",
       "        <tr>\n",
       "            <td>17729</td>\n",
       "            <td>Lasonya Wildey</td>\n",
       "            <td>439686</td>\n",
       "            <td>3824</td>\n",
       "            <td>Northwestern Dr</td>\n",
       "            <td>917817122</td>\n",
       "        </tr>\n",
       "        <tr>\n",
       "            <td>53890</td>\n",
       "            <td>Sophie Tiberio</td>\n",
       "            <td>957671</td>\n",
       "            <td>3755</td>\n",
       "            <td>Northwestern Dr</td>\n",
       "            <td>442830147</td>\n",
       "        </tr>\n",
       "        <tr>\n",
       "            <td>73368</td>\n",
       "            <td>Torie Thalmann</td>\n",
       "            <td>773862</td>\n",
       "            <td>3697</td>\n",
       "            <td>Northwestern Dr</td>\n",
       "            <td>341559436</td>\n",
       "        </tr>\n",
       "        <tr>\n",
       "            <td>96595</td>\n",
       "            <td>Coretta Cubie</td>\n",
       "            <td>303645</td>\n",
       "            <td>3631</td>\n",
       "            <td>Northwestern Dr</td>\n",
       "            <td>378403829</td>\n",
       "        </tr>\n",
       "        <tr>\n",
       "            <td>19420</td>\n",
       "            <td>Cody Schiel</td>\n",
       "            <td>890431</td>\n",
       "            <td>3524</td>\n",
       "            <td>Northwestern Dr</td>\n",
       "            <td>947110049</td>\n",
       "        </tr>\n",
       "        <tr>\n",
       "            <td>93509</td>\n",
       "            <td>Emmitt Aceuedo</td>\n",
       "            <td>916706</td>\n",
       "            <td>3491</td>\n",
       "            <td>Northwestern Dr</td>\n",
       "            <td>979073160</td>\n",
       "        </tr>\n",
       "        <tr>\n",
       "            <td>87456</td>\n",
       "            <td>Leonora Wolfsberger</td>\n",
       "            <td>215868</td>\n",
       "            <td>3483</td>\n",
       "            <td>Northwestern Dr</td>\n",
       "            <td>565203106</td>\n",
       "        </tr>\n",
       "        <tr>\n",
       "            <td>36378</td>\n",
       "            <td>Freddie Ellzey</td>\n",
       "            <td>267882</td>\n",
       "            <td>3449</td>\n",
       "            <td>Northwestern Dr</td>\n",
       "            <td>474117596</td>\n",
       "        </tr>\n",
       "        <tr>\n",
       "            <td>53076</td>\n",
       "            <td>Boris Bijou</td>\n",
       "            <td>664914</td>\n",
       "            <td>3327</td>\n",
       "            <td>Northwestern Dr</td>\n",
       "            <td>401191868</td>\n",
       "        </tr>\n",
       "        <tr>\n",
       "            <td>28360</td>\n",
       "            <td>Rashad Cascone</td>\n",
       "            <td>924517</td>\n",
       "            <td>3212</td>\n",
       "            <td>Northwestern Dr</td>\n",
       "            <td>838907424</td>\n",
       "        </tr>\n",
       "        <tr>\n",
       "            <td>23044</td>\n",
       "            <td>Val Portlock</td>\n",
       "            <td>924989</td>\n",
       "            <td>3143</td>\n",
       "            <td>Northwestern Dr</td>\n",
       "            <td>100593316</td>\n",
       "        </tr>\n",
       "        <tr>\n",
       "            <td>51114</td>\n",
       "            <td>Christena Saffell</td>\n",
       "            <td>814284</td>\n",
       "            <td>3055</td>\n",
       "            <td>Northwestern Dr</td>\n",
       "            <td>247657547</td>\n",
       "        </tr>\n",
       "        <tr>\n",
       "            <td>68690</td>\n",
       "            <td>Yer Modest</td>\n",
       "            <td>852404</td>\n",
       "            <td>3046</td>\n",
       "            <td>Northwestern Dr</td>\n",
       "            <td>419238039</td>\n",
       "        </tr>\n",
       "        <tr>\n",
       "            <td>44004</td>\n",
       "            <td>Alison Eska</td>\n",
       "            <td>327797</td>\n",
       "            <td>2951</td>\n",
       "            <td>Northwestern Dr</td>\n",
       "            <td>306417867</td>\n",
       "        </tr>\n",
       "        <tr>\n",
       "            <td>98593</td>\n",
       "            <td>Jonah Toner</td>\n",
       "            <td>578982</td>\n",
       "            <td>2947</td>\n",
       "            <td>Northwestern Dr</td>\n",
       "            <td>745853548</td>\n",
       "        </tr>\n",
       "        <tr>\n",
       "            <td>59307</td>\n",
       "            <td>Cyril Yongue</td>\n",
       "            <td>753524</td>\n",
       "            <td>2903</td>\n",
       "            <td>Northwestern Dr</td>\n",
       "            <td>866057839</td>\n",
       "        </tr>\n",
       "        <tr>\n",
       "            <td>34155</td>\n",
       "            <td>Allyson Lazenson</td>\n",
       "            <td>814209</td>\n",
       "            <td>2840</td>\n",
       "            <td>Northwestern Dr</td>\n",
       "            <td>991150469</td>\n",
       "        </tr>\n",
       "        <tr>\n",
       "            <td>90397</td>\n",
       "            <td>Dionna Kranwinkle</td>\n",
       "            <td>797260</td>\n",
       "            <td>2678</td>\n",
       "            <td>Northwestern Dr</td>\n",
       "            <td>278964807</td>\n",
       "        </tr>\n",
       "        <tr>\n",
       "            <td>54564</td>\n",
       "            <td>Sammie Sengun</td>\n",
       "            <td>217286</td>\n",
       "            <td>2590</td>\n",
       "            <td>Northwestern Dr</td>\n",
       "            <td>848854310</td>\n",
       "        </tr>\n",
       "        <tr>\n",
       "            <td>53699</td>\n",
       "            <td>Christian Pagano</td>\n",
       "            <td>628433</td>\n",
       "            <td>2585</td>\n",
       "            <td>Northwestern Dr</td>\n",
       "            <td>644772304</td>\n",
       "        </tr>\n",
       "        <tr>\n",
       "            <td>34352</td>\n",
       "            <td>Vincenza Burkhardt</td>\n",
       "            <td>436470</td>\n",
       "            <td>2512</td>\n",
       "            <td>Northwestern Dr</td>\n",
       "            <td>197913046</td>\n",
       "        </tr>\n",
       "        <tr>\n",
       "            <td>80921</td>\n",
       "            <td>Donovan Yackley</td>\n",
       "            <td>222395</td>\n",
       "            <td>2386</td>\n",
       "            <td>Northwestern Dr</td>\n",
       "            <td>515049359</td>\n",
       "        </tr>\n",
       "        <tr>\n",
       "            <td>96178</td>\n",
       "            <td>Galina Khuu</td>\n",
       "            <td>450248</td>\n",
       "            <td>2183</td>\n",
       "            <td>Northwestern Dr</td>\n",
       "            <td>398518185</td>\n",
       "        </tr>\n",
       "        <tr>\n",
       "            <td>81885</td>\n",
       "            <td>Kurtis Masuda</td>\n",
       "            <td>934201</td>\n",
       "            <td>2108</td>\n",
       "            <td>Northwestern Dr</td>\n",
       "            <td>201272595</td>\n",
       "        </tr>\n",
       "        <tr>\n",
       "            <td>88423</td>\n",
       "            <td>Teri Ehrich</td>\n",
       "            <td>510876</td>\n",
       "            <td>1879</td>\n",
       "            <td>Northwestern Dr</td>\n",
       "            <td>248637345</td>\n",
       "        </tr>\n",
       "        <tr>\n",
       "            <td>51552</td>\n",
       "            <td>Bonita Knie</td>\n",
       "            <td>764124</td>\n",
       "            <td>1726</td>\n",
       "            <td>Northwestern Dr</td>\n",
       "            <td>597137908</td>\n",
       "        </tr>\n",
       "        <tr>\n",
       "            <td>72076</td>\n",
       "            <td>Courtney Bordeaux</td>\n",
       "            <td>324614</td>\n",
       "            <td>1707</td>\n",
       "            <td>Northwestern Dr</td>\n",
       "            <td>347966356</td>\n",
       "        </tr>\n",
       "        <tr>\n",
       "            <td>81052</td>\n",
       "            <td>Calvin Czelusniak</td>\n",
       "            <td>471483</td>\n",
       "            <td>1516</td>\n",
       "            <td>Northwestern Dr</td>\n",
       "            <td>657531837</td>\n",
       "        </tr>\n",
       "        <tr>\n",
       "            <td>71924</td>\n",
       "            <td>Laurie Scronce</td>\n",
       "            <td>774116</td>\n",
       "            <td>1418</td>\n",
       "            <td>Northwestern Dr</td>\n",
       "            <td>254883636</td>\n",
       "        </tr>\n",
       "        <tr>\n",
       "            <td>23960</td>\n",
       "            <td>Kristopher Lagerberg</td>\n",
       "            <td>658777</td>\n",
       "            <td>1392</td>\n",
       "            <td>Northwestern Dr</td>\n",
       "            <td>492912529</td>\n",
       "        </tr>\n",
       "        <tr>\n",
       "            <td>70485</td>\n",
       "            <td>Andera Kostelecky</td>\n",
       "            <td>354822</td>\n",
       "            <td>1252</td>\n",
       "            <td>Northwestern Dr</td>\n",
       "            <td>787423012</td>\n",
       "        </tr>\n",
       "        <tr>\n",
       "            <td>22239</td>\n",
       "            <td>Dusty Sigafus</td>\n",
       "            <td>710517</td>\n",
       "            <td>1125</td>\n",
       "            <td>Northwestern Dr</td>\n",
       "            <td>724386723</td>\n",
       "        </tr>\n",
       "        <tr>\n",
       "            <td>18376</td>\n",
       "            <td>Josh Shi</td>\n",
       "            <td>653712</td>\n",
       "            <td>1091</td>\n",
       "            <td>Northwestern Dr</td>\n",
       "            <td>193899001</td>\n",
       "        </tr>\n",
       "        <tr>\n",
       "            <td>29608</td>\n",
       "            <td>Willetta Lurvey</td>\n",
       "            <td>800568</td>\n",
       "            <td>1028</td>\n",
       "            <td>Northwestern Dr</td>\n",
       "            <td>843751378</td>\n",
       "        </tr>\n",
       "        <tr>\n",
       "            <td>33415</td>\n",
       "            <td>Homer Simpson</td>\n",
       "            <td>108392</td>\n",
       "            <td>981</td>\n",
       "            <td>Northwestern Dr</td>\n",
       "            <td>871392019</td>\n",
       "        </tr>\n",
       "        <tr>\n",
       "            <td>55130</td>\n",
       "            <td>Shiloh Huntoon</td>\n",
       "            <td>472118</td>\n",
       "            <td>951</td>\n",
       "            <td>Northwestern Dr</td>\n",
       "            <td>826647644</td>\n",
       "        </tr>\n",
       "        <tr>\n",
       "            <td>44542</td>\n",
       "            <td>Ivory Mcgrevey</td>\n",
       "            <td>873842</td>\n",
       "            <td>897</td>\n",
       "            <td>Northwestern Dr</td>\n",
       "            <td>988557407</td>\n",
       "        </tr>\n",
       "        <tr>\n",
       "            <td>99826</td>\n",
       "            <td>Ivy Kazarian</td>\n",
       "            <td>994470</td>\n",
       "            <td>892</td>\n",
       "            <td>Northwestern Dr</td>\n",
       "            <td>208359813</td>\n",
       "        </tr>\n",
       "        <tr>\n",
       "            <td>25615</td>\n",
       "            <td>Olevia Morena</td>\n",
       "            <td>388477</td>\n",
       "            <td>812</td>\n",
       "            <td>Northwestern Dr</td>\n",
       "            <td>962831331</td>\n",
       "        </tr>\n",
       "        <tr>\n",
       "            <td>40760</td>\n",
       "            <td>Renata Faver</td>\n",
       "            <td>976650</td>\n",
       "            <td>745</td>\n",
       "            <td>Northwestern Dr</td>\n",
       "            <td>547572040</td>\n",
       "        </tr>\n",
       "        <tr>\n",
       "            <td>10010</td>\n",
       "            <td>Muoi Cary</td>\n",
       "            <td>385336</td>\n",
       "            <td>741</td>\n",
       "            <td>Northwestern Dr</td>\n",
       "            <td>828638512</td>\n",
       "        </tr>\n",
       "        <tr>\n",
       "            <td>39688</td>\n",
       "            <td>Abe Roeker</td>\n",
       "            <td>537445</td>\n",
       "            <td>689</td>\n",
       "            <td>Northwestern Dr</td>\n",
       "            <td>438969447</td>\n",
       "        </tr>\n",
       "        <tr>\n",
       "            <td>26758</td>\n",
       "            <td>Angelena Billman</td>\n",
       "            <td>942074</td>\n",
       "            <td>629</td>\n",
       "            <td>Northwestern Dr</td>\n",
       "            <td>341854756</td>\n",
       "        </tr>\n",
       "        <tr>\n",
       "            <td>75484</td>\n",
       "            <td>Del Tacderen</td>\n",
       "            <td>447887</td>\n",
       "            <td>607</td>\n",
       "            <td>Northwestern Dr</td>\n",
       "            <td>243821337</td>\n",
       "        </tr>\n",
       "        <tr>\n",
       "            <td>12711</td>\n",
       "            <td>Norman Apolito</td>\n",
       "            <td>667757</td>\n",
       "            <td>599</td>\n",
       "            <td>Northwestern Dr</td>\n",
       "            <td>778264744</td>\n",
       "        </tr>\n",
       "        <tr>\n",
       "            <td>85280</td>\n",
       "            <td>Donn Duin</td>\n",
       "            <td>569122</td>\n",
       "            <td>540</td>\n",
       "            <td>Northwestern Dr</td>\n",
       "            <td>613873810</td>\n",
       "        </tr>\n",
       "        <tr>\n",
       "            <td>40336</td>\n",
       "            <td>Fredia Billeter</td>\n",
       "            <td>251082</td>\n",
       "            <td>404</td>\n",
       "            <td>Northwestern Dr</td>\n",
       "            <td>108056488</td>\n",
       "        </tr>\n",
       "        <tr>\n",
       "            <td>15171</td>\n",
       "            <td>Weldon Penso</td>\n",
       "            <td>336999</td>\n",
       "            <td>311</td>\n",
       "            <td>Northwestern Dr</td>\n",
       "            <td>131379495</td>\n",
       "        </tr>\n",
       "        <tr>\n",
       "            <td>89906</td>\n",
       "            <td>Kinsey Erickson</td>\n",
       "            <td>510019</td>\n",
       "            <td>309</td>\n",
       "            <td>Northwestern Dr</td>\n",
       "            <td>635287661</td>\n",
       "        </tr>\n",
       "    </tbody>\n",
       "</table>"
      ],
      "text/plain": [
       "[(14887, 'Morty Schapiro', 118009, 4919, 'Northwestern Dr', '111564949'),\n",
       " (17729, 'Lasonya Wildey', 439686, 3824, 'Northwestern Dr', '917817122'),\n",
       " (53890, 'Sophie Tiberio', 957671, 3755, 'Northwestern Dr', '442830147'),\n",
       " (73368, 'Torie Thalmann', 773862, 3697, 'Northwestern Dr', '341559436'),\n",
       " (96595, 'Coretta Cubie', 303645, 3631, 'Northwestern Dr', '378403829'),\n",
       " (19420, 'Cody Schiel', 890431, 3524, 'Northwestern Dr', '947110049'),\n",
       " (93509, 'Emmitt Aceuedo', 916706, 3491, 'Northwestern Dr', '979073160'),\n",
       " (87456, 'Leonora Wolfsberger', 215868, 3483, 'Northwestern Dr', '565203106'),\n",
       " (36378, 'Freddie Ellzey', 267882, 3449, 'Northwestern Dr', '474117596'),\n",
       " (53076, 'Boris Bijou', 664914, 3327, 'Northwestern Dr', '401191868'),\n",
       " (28360, 'Rashad Cascone', 924517, 3212, 'Northwestern Dr', '838907424'),\n",
       " (23044, 'Val Portlock', 924989, 3143, 'Northwestern Dr', '100593316'),\n",
       " (51114, 'Christena Saffell', 814284, 3055, 'Northwestern Dr', '247657547'),\n",
       " (68690, 'Yer Modest', 852404, 3046, 'Northwestern Dr', '419238039'),\n",
       " (44004, 'Alison Eska', 327797, 2951, 'Northwestern Dr', '306417867'),\n",
       " (98593, 'Jonah Toner', 578982, 2947, 'Northwestern Dr', '745853548'),\n",
       " (59307, 'Cyril Yongue', 753524, 2903, 'Northwestern Dr', '866057839'),\n",
       " (34155, 'Allyson Lazenson', 814209, 2840, 'Northwestern Dr', '991150469'),\n",
       " (90397, 'Dionna Kranwinkle', 797260, 2678, 'Northwestern Dr', '278964807'),\n",
       " (54564, 'Sammie Sengun', 217286, 2590, 'Northwestern Dr', '848854310'),\n",
       " (53699, 'Christian Pagano', 628433, 2585, 'Northwestern Dr', '644772304'),\n",
       " (34352, 'Vincenza Burkhardt', 436470, 2512, 'Northwestern Dr', '197913046'),\n",
       " (80921, 'Donovan Yackley', 222395, 2386, 'Northwestern Dr', '515049359'),\n",
       " (96178, 'Galina Khuu', 450248, 2183, 'Northwestern Dr', '398518185'),\n",
       " (81885, 'Kurtis Masuda', 934201, 2108, 'Northwestern Dr', '201272595'),\n",
       " (88423, 'Teri Ehrich', 510876, 1879, 'Northwestern Dr', '248637345'),\n",
       " (51552, 'Bonita Knie', 764124, 1726, 'Northwestern Dr', '597137908'),\n",
       " (72076, 'Courtney Bordeaux', 324614, 1707, 'Northwestern Dr', '347966356'),\n",
       " (81052, 'Calvin Czelusniak', 471483, 1516, 'Northwestern Dr', '657531837'),\n",
       " (71924, 'Laurie Scronce', 774116, 1418, 'Northwestern Dr', '254883636'),\n",
       " (23960, 'Kristopher Lagerberg', 658777, 1392, 'Northwestern Dr', '492912529'),\n",
       " (70485, 'Andera Kostelecky', 354822, 1252, 'Northwestern Dr', '787423012'),\n",
       " (22239, 'Dusty Sigafus', 710517, 1125, 'Northwestern Dr', '724386723'),\n",
       " (18376, 'Josh Shi', 653712, 1091, 'Northwestern Dr', '193899001'),\n",
       " (29608, 'Willetta Lurvey', 800568, 1028, 'Northwestern Dr', '843751378'),\n",
       " (33415, 'Homer Simpson', 108392, 981, 'Northwestern Dr', '871392019'),\n",
       " (55130, 'Shiloh Huntoon', 472118, 951, 'Northwestern Dr', '826647644'),\n",
       " (44542, 'Ivory Mcgrevey', 873842, 897, 'Northwestern Dr', '988557407'),\n",
       " (99826, 'Ivy Kazarian', 994470, 892, 'Northwestern Dr', '208359813'),\n",
       " (25615, 'Olevia Morena', 388477, 812, 'Northwestern Dr', '962831331'),\n",
       " (40760, 'Renata Faver', 976650, 745, 'Northwestern Dr', '547572040'),\n",
       " (10010, 'Muoi Cary', 385336, 741, 'Northwestern Dr', '828638512'),\n",
       " (39688, 'Abe Roeker', 537445, 689, 'Northwestern Dr', '438969447'),\n",
       " (26758, 'Angelena Billman', 942074, 629, 'Northwestern Dr', '341854756'),\n",
       " (75484, 'Del Tacderen', 447887, 607, 'Northwestern Dr', '243821337'),\n",
       " (12711, 'Norman Apolito', 667757, 599, 'Northwestern Dr', '778264744'),\n",
       " (85280, 'Donn Duin', 569122, 540, 'Northwestern Dr', '613873810'),\n",
       " (40336, 'Fredia Billeter', 251082, 404, 'Northwestern Dr', '108056488'),\n",
       " (15171, 'Weldon Penso', 336999, 311, 'Northwestern Dr', '131379495'),\n",
       " (89906, 'Kinsey Erickson', 510019, 309, 'Northwestern Dr', '635287661')]"
      ]
     },
     "execution_count": 8,
     "metadata": {},
     "output_type": "execute_result"
    }
   ],
   "source": [
    "%%sql\n",
    "SELECT * \n",
    "FROM person\n",
    "WHERE address_street_name = 'Northwestern Dr'\n",
    "ORDER BY address_number DESC;\n"
   ]
  },
  {
   "cell_type": "code",
   "execution_count": 9,
   "id": "04449332",
   "metadata": {},
   "outputs": [
    {
     "name": "stdout",
     "output_type": "stream",
     "text": [
      " * sqlite:///sql-murder-mystery.db\n",
      "Done.\n"
     ]
    },
    {
     "data": {
      "text/html": [
       "<table>\n",
       "    <thead>\n",
       "        <tr>\n",
       "            <th>person_id</th>\n",
       "            <th>transcript</th>\n",
       "        </tr>\n",
       "    </thead>\n",
       "    <tbody>\n",
       "        <tr>\n",
       "            <td>14887</td>\n",
       "            <td>I heard a gunshot and then saw a man run out. He had a &quot;Get Fit Now Gym&quot; bag. The membership number on the bag started with &quot;48Z&quot;. Only gold members have those bags. The man got into a car with a plate that included &quot;H42W&quot;.</td>\n",
       "        </tr>\n",
       "    </tbody>\n",
       "</table>"
      ],
      "text/plain": [
       "[(14887, 'I heard a gunshot and then saw a man run out. He had a \"Get Fit Now Gym\" bag. The membership number on the bag started with \"48Z\". Only gold members have those bags. The man got into a car with a plate that included \"H42W\".')]"
      ]
     },
     "execution_count": 9,
     "metadata": {},
     "output_type": "execute_result"
    }
   ],
   "source": [
    "%%sql\n",
    "SELECT * \n",
    "FROM interview\n",
    "WHERE person_id = 14887;"
   ]
  },
  {
   "cell_type": "code",
   "execution_count": 16,
   "id": "be11b36f",
   "metadata": {},
   "outputs": [
    {
     "name": "stdout",
     "output_type": "stream",
     "text": [
      " * sqlite:///sql-murder-mystery.db\n",
      "Done.\n"
     ]
    },
    {
     "data": {
      "text/html": [
       "<table>\n",
       "    <thead>\n",
       "        <tr>\n",
       "            <th>id</th>\n",
       "            <th>age</th>\n",
       "            <th>height</th>\n",
       "            <th>eye_color</th>\n",
       "            <th>hair_color</th>\n",
       "            <th>gender</th>\n",
       "            <th>plate_number</th>\n",
       "            <th>car_make</th>\n",
       "            <th>car_model</th>\n",
       "        </tr>\n",
       "    </thead>\n",
       "    <tbody>\n",
       "        <tr>\n",
       "            <td>183779</td>\n",
       "            <td>21</td>\n",
       "            <td>65</td>\n",
       "            <td>blue</td>\n",
       "            <td>blonde</td>\n",
       "            <td>female</td>\n",
       "            <td>H42W0X</td>\n",
       "            <td>Toyota</td>\n",
       "            <td>Prius</td>\n",
       "        </tr>\n",
       "        <tr>\n",
       "            <td>423327</td>\n",
       "            <td>30</td>\n",
       "            <td>70</td>\n",
       "            <td>brown</td>\n",
       "            <td>brown</td>\n",
       "            <td>male</td>\n",
       "            <td>0H42W2</td>\n",
       "            <td>Chevrolet</td>\n",
       "            <td>Spark LS</td>\n",
       "        </tr>\n",
       "        <tr>\n",
       "            <td>664760</td>\n",
       "            <td>21</td>\n",
       "            <td>71</td>\n",
       "            <td>black</td>\n",
       "            <td>black</td>\n",
       "            <td>male</td>\n",
       "            <td>4H42WR</td>\n",
       "            <td>Nissan</td>\n",
       "            <td>Altima</td>\n",
       "        </tr>\n",
       "    </tbody>\n",
       "</table>"
      ],
      "text/plain": [
       "[(183779, 21, 65, 'blue', 'blonde', 'female', 'H42W0X', 'Toyota', 'Prius'),\n",
       " (423327, 30, 70, 'brown', 'brown', 'male', '0H42W2', 'Chevrolet', 'Spark LS'),\n",
       " (664760, 21, 71, 'black', 'black', 'male', '4H42WR', 'Nissan', 'Altima')]"
      ]
     },
     "execution_count": 16,
     "metadata": {},
     "output_type": "execute_result"
    }
   ],
   "source": [
    "%%sql\n",
    "SELECT * \n",
    "FROM drivers_license\n",
    "WHERE plate_number LIKE '%H42W%';\n"
   ]
  },
  {
   "cell_type": "code",
   "execution_count": null,
   "id": "54d5fb30",
   "metadata": {},
   "outputs": [
    {
     "name": "stdout",
     "output_type": "stream",
     "text": [
      " * sqlite:///sql-murder-mystery.db\n",
      "Done.\n"
     ]
    },
    {
     "data": {
      "text/html": [
       "<table>\n",
       "    <thead>\n",
       "        <tr>\n",
       "            <th>id</th>\n",
       "            <th>name</th>\n",
       "            <th>license_id</th>\n",
       "            <th>address_number</th>\n",
       "            <th>address_street_name</th>\n",
       "            <th>ssn</th>\n",
       "        </tr>\n",
       "    </thead>\n",
       "    <tbody>\n",
       "        <tr>\n",
       "            <td>51739</td>\n",
       "            <td>Tushar Chandra</td>\n",
       "            <td>664760</td>\n",
       "            <td>312</td>\n",
       "            <td>Phi St</td>\n",
       "            <td>137882671</td>\n",
       "        </tr>\n",
       "        <tr>\n",
       "            <td>67318</td>\n",
       "            <td>Jeremy Bowers</td>\n",
       "            <td>423327</td>\n",
       "            <td>530</td>\n",
       "            <td>Washington Pl, Apt 3A</td>\n",
       "            <td>871539279</td>\n",
       "        </tr>\n",
       "    </tbody>\n",
       "</table>"
      ],
      "text/plain": [
       "[(51739, 'Tushar Chandra', 664760, 312, 'Phi St', '137882671'),\n",
       " (67318, 'Jeremy Bowers', 423327, 530, 'Washington Pl, Apt 3A', '871539279')]"
      ]
     },
     "execution_count": 30,
     "metadata": {},
     "output_type": "execute_result"
    }
   ],
   "source": [
    "%%sql\n",
    "SELECT * \n",
    "FROM person\n",
    "WHERE license_id IN (423327, 664760);"
   ]
  },
  {
   "cell_type": "code",
   "execution_count": 31,
   "id": "2b256c2a",
   "metadata": {},
   "outputs": [
    {
     "name": "stdout",
     "output_type": "stream",
     "text": [
      " * sqlite:///sql-murder-mystery.db\n",
      "Done.\n"
     ]
    },
    {
     "data": {
      "text/html": [
       "<table>\n",
       "    <thead>\n",
       "        <tr>\n",
       "            <th>id</th>\n",
       "            <th>name</th>\n",
       "            <th>license_id</th>\n",
       "            <th>address_number</th>\n",
       "            <th>address_street_name</th>\n",
       "            <th>ssn</th>\n",
       "        </tr>\n",
       "    </thead>\n",
       "    <tbody>\n",
       "        <tr>\n",
       "            <td>16371</td>\n",
       "            <td>Annabel Miller</td>\n",
       "            <td>490173</td>\n",
       "            <td>103</td>\n",
       "            <td>Franklin Ave</td>\n",
       "            <td>318771143</td>\n",
       "        </tr>\n",
       "    </tbody>\n",
       "</table>"
      ],
      "text/plain": [
       "[(16371, 'Annabel Miller', 490173, 103, 'Franklin Ave', '318771143')]"
      ]
     },
     "execution_count": 31,
     "metadata": {},
     "output_type": "execute_result"
    }
   ],
   "source": [
    "%%sql\n",
    "SELECT * \n",
    "FROM person\n",
    "WHERE name LIKE '%Annabel%'\n",
    "  AND address_street_name = 'Franklin Ave';\n"
   ]
  },
  {
   "cell_type": "code",
   "execution_count": 32,
   "id": "5572ee1a",
   "metadata": {},
   "outputs": [
    {
     "name": "stdout",
     "output_type": "stream",
     "text": [
      " * sqlite:///sql-murder-mystery.db\n",
      "Done.\n"
     ]
    },
    {
     "data": {
      "text/html": [
       "<table>\n",
       "    <thead>\n",
       "        <tr>\n",
       "            <th>person_id</th>\n",
       "            <th>transcript</th>\n",
       "        </tr>\n",
       "    </thead>\n",
       "    <tbody>\n",
       "        <tr>\n",
       "            <td>16371</td>\n",
       "            <td>I saw the murder happen, and I recognized the killer from my gym when I was working out last week on January the 9th.</td>\n",
       "        </tr>\n",
       "    </tbody>\n",
       "</table>"
      ],
      "text/plain": [
       "[(16371, 'I saw the murder happen, and I recognized the killer from my gym when I was working out last week on January the 9th.')]"
      ]
     },
     "execution_count": 32,
     "metadata": {},
     "output_type": "execute_result"
    }
   ],
   "source": [
    "%%sql\n",
    "SELECT * \n",
    "FROM interview\n",
    "WHERE person_id = 16371;"
   ]
  },
  {
   "cell_type": "code",
   "execution_count": 33,
   "id": "a073a3b1",
   "metadata": {},
   "outputs": [
    {
     "name": "stdout",
     "output_type": "stream",
     "text": [
      " * sqlite:///sql-murder-mystery.db\n",
      "Done.\n"
     ]
    },
    {
     "data": {
      "text/html": [
       "<table>\n",
       "    <thead>\n",
       "        <tr>\n",
       "            <th>id</th>\n",
       "            <th>person_id</th>\n",
       "            <th>name</th>\n",
       "            <th>membership_start_date</th>\n",
       "            <th>membership_status</th>\n",
       "        </tr>\n",
       "    </thead>\n",
       "    <tbody>\n",
       "        <tr>\n",
       "            <td>48Z55</td>\n",
       "            <td>67318</td>\n",
       "            <td>Jeremy Bowers</td>\n",
       "            <td>20160101</td>\n",
       "            <td>gold</td>\n",
       "        </tr>\n",
       "    </tbody>\n",
       "</table>"
      ],
      "text/plain": [
       "[('48Z55', 67318, 'Jeremy Bowers', 20160101, 'gold')]"
      ]
     },
     "execution_count": 33,
     "metadata": {},
     "output_type": "execute_result"
    }
   ],
   "source": [
    "%%sql\n",
    "SELECT * \n",
    "FROM get_fit_now_member\n",
    "WHERE person_id IN (51739, 67318);\n"
   ]
  },
  {
   "cell_type": "code",
   "execution_count": 34,
   "id": "5c634c29",
   "metadata": {},
   "outputs": [
    {
     "name": "stdout",
     "output_type": "stream",
     "text": [
      " * sqlite:///sql-murder-mystery.db\n",
      "Done.\n"
     ]
    },
    {
     "data": {
      "text/html": [
       "<table>\n",
       "    <thead>\n",
       "        <tr>\n",
       "            <th>membership_id</th>\n",
       "            <th>check_in_date</th>\n",
       "            <th>check_in_time</th>\n",
       "            <th>check_out_time</th>\n",
       "        </tr>\n",
       "    </thead>\n",
       "    <tbody>\n",
       "        <tr>\n",
       "            <td>48Z55</td>\n",
       "            <td>20180109</td>\n",
       "            <td>1530</td>\n",
       "            <td>1700</td>\n",
       "        </tr>\n",
       "    </tbody>\n",
       "</table>"
      ],
      "text/plain": [
       "[('48Z55', 20180109, 1530, 1700)]"
      ]
     },
     "execution_count": 34,
     "metadata": {},
     "output_type": "execute_result"
    }
   ],
   "source": [
    "%%sql\n",
    "SELECT * \n",
    "FROM get_fit_now_check_in\n",
    "WHERE membership_id = '48Z55';\n"
   ]
  },
  {
   "cell_type": "markdown",
   "id": "d9789bc7",
   "metadata": {},
   "source": [
    "\n",
    "### The rest is up to you!\n",
    "\n",
    "If you're really comfortable with SQL, you can probably get it from here. To help, here is the schema diagram:\n",
    "\n",
    "![schema diagram](schema.png)\n",
    "\n",
    "Use your knowledge of the database schema and SQL commands to find out who committed the murder.\n",
    "### Check your solution\n",
    "\n",
    "Did you find the killer? When you think you know the answer, submit your suspect using the following code and find out if you're right.\n"
   ]
  },
  {
   "cell_type": "code",
   "execution_count": 35,
   "id": "830ea4a6",
   "metadata": {},
   "outputs": [
    {
     "name": "stdout",
     "output_type": "stream",
     "text": [
      " * sqlite:///sql-murder-mystery.db\n",
      "1 rows affected.\n",
      "Done.\n"
     ]
    },
    {
     "data": {
      "text/html": [
       "<table>\n",
       "    <thead>\n",
       "        <tr>\n",
       "            <th>value</th>\n",
       "        </tr>\n",
       "    </thead>\n",
       "    <tbody>\n",
       "        <tr>\n",
       "            <td>Congrats, you found the murderer! But wait, there&#x27;s more... If you think you&#x27;re up for a challenge, try querying the interview transcript of the murderer to find the real villain behind this crime. If you feel especially confident in your SQL skills, try to complete this final step with no more than 2 queries. Use this same INSERT statement with your new suspect to check your answer.</td>\n",
       "        </tr>\n",
       "    </tbody>\n",
       "</table>"
      ],
      "text/plain": [
       "[(\"Congrats, you found the murderer! But wait, there's more... If you think you're up for a challenge, try querying the interview transcript of the murd ... (88 characters truncated) ... r SQL skills, try to complete this final step with no more than 2 queries. Use this same INSERT statement with your new suspect to check your answer.\",)]"
      ]
     },
     "execution_count": 35,
     "metadata": {},
     "output_type": "execute_result"
    }
   ],
   "source": [
    "%%sql\n",
    "INSERT INTO solution VALUES (1, 'Jeremy Bowers');\n",
    "SELECT value FROM solution;"
   ]
  },
  {
   "cell_type": "code",
   "execution_count": 36,
   "id": "284072e2",
   "metadata": {},
   "outputs": [
    {
     "name": "stdout",
     "output_type": "stream",
     "text": [
      " * sqlite:///sql-murder-mystery.db\n",
      "Done.\n"
     ]
    },
    {
     "data": {
      "text/html": [
       "<table>\n",
       "    <thead>\n",
       "        <tr>\n",
       "            <th>person_id</th>\n",
       "            <th>transcript</th>\n",
       "        </tr>\n",
       "    </thead>\n",
       "    <tbody>\n",
       "        <tr>\n",
       "            <td>67318</td>\n",
       "            <td>I was hired by a woman with a lot of money. I don&#x27;t know her name but I know she&#x27;s around 5&#x27;5&quot; (65&quot;) or 5&#x27;7&quot; (67&quot;). She has red hair and she drives a Tesla Model S. I know that she attended the SQL Symphony Concert 3 times in December 2017.<br></td>\n",
       "        </tr>\n",
       "    </tbody>\n",
       "</table>"
      ],
      "text/plain": [
       "[(67318, 'I was hired by a woman with a lot of money. I don\\'t know her name but I know she\\'s around 5\\'5\" (65\") or 5\\'7\" (67\"). She has red hair and she drives a Tesla Model S. I know that she attended the SQL Symphony Concert 3 times in December 2017.\\n')]"
      ]
     },
     "execution_count": 36,
     "metadata": {},
     "output_type": "execute_result"
    }
   ],
   "source": [
    "%%sql\n",
    "SELECT * \n",
    "FROM interview\n",
    "WHERE person_id = 67318;\n"
   ]
  },
  {
   "cell_type": "code",
   "execution_count": 48,
   "id": "06e27dd1",
   "metadata": {},
   "outputs": [
    {
     "name": "stdout",
     "output_type": "stream",
     "text": [
      " * sqlite:///sql-murder-mystery.db\n",
      "Done.\n"
     ]
    },
    {
     "data": {
      "text/html": [
       "<table>\n",
       "    <thead>\n",
       "        <tr>\n",
       "            <th>person_id</th>\n",
       "            <th>name</th>\n",
       "            <th>car_make</th>\n",
       "            <th>car_model</th>\n",
       "            <th>hair_color</th>\n",
       "        </tr>\n",
       "    </thead>\n",
       "    <tbody>\n",
       "        <tr>\n",
       "            <td>99716</td>\n",
       "            <td>Miranda Priestly</td>\n",
       "            <td>Tesla</td>\n",
       "            <td>Model S</td>\n",
       "            <td>red</td>\n",
       "        </tr>\n",
       "    </tbody>\n",
       "</table>"
      ],
      "text/plain": [
       "[(99716, 'Miranda Priestly', 'Tesla', 'Model S', 'red')]"
      ]
     },
     "execution_count": 48,
     "metadata": {},
     "output_type": "execute_result"
    }
   ],
   "source": [
    "%%sql\n",
    "SELECT p.id AS person_id, p.name, dl.car_make, dl.car_model, dl.hair_color\n",
    "FROM drivers_license AS dl\n",
    "JOIN person AS p ON p.license_id = dl.id\n",
    "JOIN facebook_event_checkin AS f ON f.person_id = p.id\n",
    "WHERE dl.hair_color = 'red'\n",
    "  AND dl.car_make = 'Tesla'\n",
    "  AND dl.car_model = 'Model S'\n",
    "  AND dl.gender = 'female'\n",
    "  AND f.event_name = 'SQL Symphony Concert'\n",
    "  AND f.date BETWEEN 20171201 AND 20171231\n",
    "GROUP BY p.id\n",
    "HAVING COUNT(f.event_name) = 3;\n"
   ]
  }
 ],
 "metadata": {
  "kernelspec": {
   "display_name": "Python 3",
   "language": "python",
   "name": "python3"
  },
  "language_info": {
   "codemirror_mode": {
    "name": "ipython",
    "version": 3
   },
   "file_extension": ".py",
   "mimetype": "text/x-python",
   "name": "python",
   "nbconvert_exporter": "python",
   "pygments_lexer": "ipython3",
   "version": "3.12.3"
  }
 },
 "nbformat": 4,
 "nbformat_minor": 5
}
